{
 "metadata": {
  "name": "",
  "signature": "sha256:d439f22c6d1ab3a024a69f0ac9d954e4e54cb293afe8ed973f61e7a28b2733c7"
 },
 "nbformat": 3,
 "nbformat_minor": 0,
 "worksheets": [
  {
   "cells": [
    {
     "cell_type": "heading",
     "level": 1,
     "metadata": {},
     "source": [
      "5.0 Project Write up"
     ]
    },
    {
     "cell_type": "markdown",
     "metadata": {},
     "source": [
      "[[Home](CW-1-Pearl-River-Intro.ipynb#Geog-2021-Coursework)]  [[Prev](2021_UrbanModel.ipynb#4.0-Urban-Model)]"
     ]
    },
    {
     "cell_type": "markdown",
     "metadata": {},
     "source": [
      "##Assessment\n",
      "\n",
      "* 60% Two hour unseen written examination \n",
      "* 40% Assessed Practical (2500 words) - submission date standard 2nd year submission date i.e. Weds 25th March 2015 (12 noon).\n",
      "\n",
      "NB:\n",
      "\n",
      "* Penalties for late submission and over length WILL be applied\n",
      "* BOTH components must be submitted for the course to be complete\n",
      "* Different arrangements for JYA/Socrates (make sure you inform the lecturers if this affects you)"
     ]
    },
    {
     "cell_type": "markdown",
     "metadata": {},
     "source": [
      "## Write up\n",
      "\n",
      "Your write-up should include figures and diagrams relevant to describing the approach you have taken and sufficient to demonstrate your results. You may if you wish include additional results in an appendix should you feel this relevant. Any appendix will not count as a part of the 2500 word limit, and will not be formally assessed as part of the submission.\n",
      "\n",
      "\n",
      "The write-up should be in the style of a scientific experimentation report, i.e. providing an abstract, an introduction/context section, a brief outline of any theory any method. It should normally have one or more sections on the experimentation and results, followed by a discussion/conclusions section.\n",
      "\n",
      "It should be possible to obtain some reasonable results within this experiment, but that is not the critical factor in our assessment. We are more interested in you demonstrating that you have carried out a sensible set of experimentation within the tools and time available (achieving the minimal requirements for a pass-level grade), and that you have written it up clearly and concisely, with relevant and sufficient reference to the literature. We will be looking for a clear discussion of the model and the results, as well as a set of relevant conclusions. As always, the highest marks marks can be gained for clarity, originality, application and demonstration of depth of understanding.\n",
      "\n",
      "You may wish to deviate from this structure in your write-up, but you are advised to seek advice from the course tutors before doing so.\n",
      "\n",
      "One or both of the course tutors will be available during practical classes, as well as during their normal office hours.\n",
      "\n",
      "All graphs, figures, etc. must be correctly labelled, and your citations must be done correctly."
     ]
    },
    {
     "cell_type": "markdown",
     "metadata": {},
     "source": [
      "##A Suggested Structure\n",
      "\n",
      "To help you plan your work, we suggest the following structure. Note that we have assigned percentage marks to each section. You may. of course, deviate from this plan, but bear in mind that that might make allocating the marks more difficult for an examiner.\n",
      "\n",
      "###Introduction (5%)\n",
      "\n",
      "Providing an overview of the experimentation and their context, with reference to relevant literature. In essence, this section needs to address the question 'why is this a worthwhile exercise to do' (other than just from a perspective of learning remote sensing). Part of that question is of course 'how does this relate to what is already known (in the literature).\n",
      "\n",
      "###Model Theory (5%)\n",
      "\n",
      "Providing a clear introduction to the *type* of model used here (possibly compared to other sorts of models we might use, with relevant literature cited) and its properties. You should also present any relevant theory for the uncertainty framework/metrics you will use in the report.\n",
      "\n",
      "###Data Method (25%)\n",
      "\n",
      "Providing a description of the tasks you have gone through to order, download and subset the data (data 'pre-processing'), along with evidence that you have done this (suitable figures/plots/statistics). \n",
      "\n",
      "You must keep and present the email from USGS to show evidence that you have ordered the data.\n",
      "The email will give you a web address that will look something like http://espa.cr.usgs.gov/ordering/status/f.bloggs@nasa.gov. You should also include the web link of the files you download, and some visdualisation of the input (and subsetted) datasets.\n",
      "\n",
      "You must describe the method for classification: *not* 'click this button' style, but rather describe the processes you go through and any settings you set. This must be a sufficient description so that the process you have gone through would be repeatable (an important aspect of science).\n",
      "\n",
      "You must present classification results in part of this 'data method' section.\n",
      "\n",
      "You must also present the method you will use for validation of the classification.\n",
      "\n",
      "###Model Method (15%)\n",
      "\n",
      "Providing a description of the model or models that you use and the associated datasets (so, mainly the socio-economic drivers: the classification method is described above).\n",
      "\n",
      "You must describe how you are using the model (e.g. in a spreadsheet or through the Python code provided), and relate methods associated with uncertainty estimation to material in the model theory section.\n",
      "\n",
      "###Data Results (15%)\n",
      "\n",
      "Providing classification images (with appropriate key) at a resolution they can be veiwed in the text, associated statistics and plots (e.g. plot urban area or other variables as a function of time), results of the accuracy assessment, and change statistics.\n",
      "\n",
      "###Model Results (15%)\n",
      "\n",
      "Providing the results of the modelling exercise (parameters, uncertainty, other things of interest listed under 'extras' such as AIC etc.) presented in suitable form. Use plots and tables etc as appropriate.\n",
      "\n",
      "###Discussion (15%)\n",
      "A discussion of the classification and modelling results and their implications. The mark here will depend greatly on the depth and insight shown.\n",
      "\n",
      "###Conclusions (5%)\n",
      "Bring the report to a conclusion, putting the results and discussion materials in the context that you set up in the introduction. Make suggestions for future improvements (though for this to count for much, you *must* give some indication of how this might be achieved).\n"
     ]
    },
    {
     "cell_type": "markdown",
     "metadata": {},
     "source": [
      "[[Home](CW-1-Pearl-River-Intro.ipynb#Geog-2021-Coursework)] [[Top](WriteUp.ipynb#Project-Write-up)] [[Prev](2021_UrbanModel.ipynb#2.0-Urban-Model)]"
     ]
    }
   ],
   "metadata": {}
  }
 ]
}